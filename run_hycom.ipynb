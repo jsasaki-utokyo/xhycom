{
 "cells": [
  {
   "cell_type": "markdown",
   "metadata": {},
   "source": [
    "# xhycom for HYCOM OPeNDAP and plotting demonstration\n",
    "**Author: Jun Sasaki, Coded on July 23, 2020, Updated on August 7, 2020**<br>\n",
    "- See xhycom/utils.py, run_hycom.py\n",
    "- When encountering `urlopen error [Errno -2] Name or service not known`, reduce zoom.\n",
    "- To avoid decoding problem in time coordinate, var \"tau\" is deleted. If \"tau\" is necessary, manual decoding is required."
   ]
  },
  {
   "cell_type": "code",
   "execution_count": null,
   "metadata": {},
   "outputs": [],
   "source": [
    "from xhycom import utils as xh\n",
    "import numpy as np\n",
    "import pandas as pd\n",
    "from datetime import datetime, timedelta, timezone\n",
    "import xarray as xr\n",
    "from netCDF4 import num2date, date2num\n",
    "import cartopy.crs as ccrs\n",
    "import cartopy.feature as cfeature\n",
    "from cartopy.io.img_tiles import Stamen\n",
    "from cartopy.io.img_tiles import OSM\n",
    "from cartopy.mpl.ticker import LatitudeFormatter,LongitudeFormatter\n",
    "import matplotlib.pyplot as plt\n",
    "import matplotlib.ticker as mticker\n",
    "import hvplot.xarray\n",
    "import warnings\n",
    "warnings.filterwarnings('ignore')\n",
    "%matplotlib inline\n",
    "#%matplotlib widget  ### fig.savefig() does not work"
   ]
  },
  {
   "cell_type": "markdown",
   "metadata": {},
   "source": [
    "# HYCOM data download\n",
    "## Downloading one time and creating netcdf\n",
    "- Enforce `opendap=False` if already downloaded\n",
    "- In general, use run_opendap()"
   ]
  },
  {
   "cell_type": "code",
   "execution_count": null,
   "metadata": {},
   "outputs": [],
   "source": [
    "opendap=False  ### True: Download HYCOM data using OPeNDAP, False: Use existing netcdf\n",
    "extent = (139.2, 140.2, 34.8, 35.8)  ### (lon_min, lon_max, lat_min, lat_max)\n",
    "time = '2012-10-28 18:00:00'\n",
    "ncfile=\"hycom_tokyo_bay.nc\"\n",
    "\n",
    "if opendap:\n",
    "    ds = xh.run_hycom_gofs3_1_region_ymdh(extent=extent, time=time)\n",
    "    ds.to_netcdf(ncfile, mode=\"w\")\n",
    "ds = xr.open_dataset(ncfile)\n",
    "ds"
   ]
  },
  {
   "cell_type": "markdown",
   "metadata": {},
   "source": [
    "## Same as above but using xh.run_opendap()\n",
    "- Enfoece `opendap=False` if already downloaded.\n",
    "- `xh.run_opendap(extent, time_start, time_end=None, dtime=3, tz='utc')`\n",
    "- Netcdf file name is automatically generated as \"hycom_\" + datetime + \".nc\" \n",
    "- This method should be used in general."
   ]
  },
  {
   "cell_type": "code",
   "execution_count": null,
   "metadata": {},
   "outputs": [],
   "source": [
    "opendap=False  ### True: Download HYCOM data using OPeNDAP\n",
    "extent = (139.2, 140.2, 34.8, 35.8)  ### (lon_min, lon_max, lat_min, lat_max)\n",
    "time = '2012-10-30 18:00:00'\n",
    "if opendap:\n",
    "    xh.run_opendap(extent=extent, time_start=time)"
   ]
  },
  {
   "cell_type": "markdown",
   "metadata": {},
   "source": [
    "## Downloading and creating multi-time netcdf\n",
    "- `xh.run_opendap(extent, time_start, time_end=None, dtime=3, tz='utc')`\n",
    "- Netcdf file name is automatically generated as \"hycom_\" + datetime + \".nc\" \n",
    "- This method should be used in general."
   ]
  },
  {
   "cell_type": "code",
   "execution_count": null,
   "metadata": {},
   "outputs": [],
   "source": [
    "opendap=False  ### True: Download HYCOM data using OPeNDAP, False: Use existing netcdf\n",
    "extent = (139.2, 140.2, 34.8, 35.8)\n",
    "time_start, time_end, dtime = ('2012-10-28 12:00:00', '2012-10-29 00:00:00', 3)  ### dtime (int): time interval in hours\n",
    "if opendap:\n",
    "    xh.run_opendap(extent=extent, time_start=time_start, time_end=time_end, dtime=dtime)"
   ]
  },
  {
   "cell_type": "markdown",
   "metadata": {},
   "source": [
    "# Plotting HYCOM netcdf with [matplotlib](https://matplotlib.org/#)\n",
    "- NetCDF is loaded as xarray.Dataset.\n",
    "- matplotlib is used for static plotting, which is suitable for publication.\n",
    "\n",
    "## Loading netcdf into xarray.Dataset"
   ]
  },
  {
   "cell_type": "code",
   "execution_count": null,
   "metadata": {},
   "outputs": [],
   "source": [
    "ncfile = \"hycom_2012-10-29_00.nc\"\n",
    "ds = xr.open_dataset(ncfile)\n",
    "ds\n",
    "#ds.salinity\n",
    "#ds[\"salinity\"]\n",
    "#ds[[\"salinity\"]]"
   ]
  },
  {
   "cell_type": "code",
   "execution_count": null,
   "metadata": {},
   "outputs": [],
   "source": [
    "### Examples of indexing and slicing\n",
    "#ds[\"salinity\"]\n",
    "#ds.salinity\n",
    "#ds.salinity.isel(depth=0, time=0)\n",
    "#ds.salinity.isel(depth=slice(0,3), time=[0])\n",
    "ds.salinity.sel(depth=[0.1, 15.0], method=\"nearest\")"
   ]
  },
  {
   "cell_type": "markdown",
   "metadata": {},
   "source": [
    "## Simple plotting\n",
    "Very simple but the coastline is ugly, x- and y- axes labels are missing, and the legend is too long by default."
   ]
  },
  {
   "cell_type": "code",
   "execution_count": null,
   "metadata": {},
   "outputs": [],
   "source": [
    "### Start setting by users\n",
    "depth = 0 # depth index in int\n",
    "extent = (139.2, 140.2, 34.8, 35.8)  ### (lon_min, lon_max, lat_min, lat_max)\n",
    "figsize = (6,6)\n",
    "png = 'hycom_tokyo_bay1.png'\n",
    "## Default font size\n",
    "plt.rcParams['font.size'] = 12\n",
    "### End setting by users\n",
    "\n",
    "central_longitude = np.mean(extent[0:2])\n",
    "#proj = ccrs.LambertConformal(central_longitude=central_longitude, central_latitude=central_latitude)\n",
    "proj = ccrs.PlateCarree(central_longitude=central_longitude)\n",
    "fig = plt.figure(figsize=figsize)\n",
    "ax = plt.axes(projection=proj)\n",
    "ds.salinity.isel(depth=depth).plot(ax=ax, x='lon', y='lat', transform=ccrs.PlateCarree())\n",
    "ax.coastlines()\n",
    "fig.savefig(png, dpi=600, bbox_inches='tight')"
   ]
  },
  {
   "cell_type": "markdown",
   "metadata": {},
   "source": [
    "## Simple plotting with minimum axes adjustment"
   ]
  },
  {
   "cell_type": "code",
   "execution_count": null,
   "metadata": {},
   "outputs": [],
   "source": [
    "### Start setting by users\n",
    "depth = 0 # depth index in int\n",
    "extent = (139.2, 140.2, 34.8, 35.8)\n",
    "figsize = (6,5)\n",
    "png = 'hycom_tokyo_bay2.png'\n",
    "## Default font size\n",
    "plt.rcParams['font.size'] = 12\n",
    "## Adjust surorunding margins\n",
    "lon_min, lon_max = extent[0]-0.1, extent[1]+0.15\n",
    "lat_min, lat_max = extent[2]-0.1, extent[3]+0.1\n",
    "### End setting by users\n",
    "\n",
    "central_longitude = np.mean(extent[0:2])\n",
    "#proj = ccrs.LambertConformal(central_longitude=central_longitude, central_latitude=central_latitude)\n",
    "proj = ccrs.PlateCarree(central_longitude=central_longitude)\n",
    "fig = plt.figure(figsize=figsize)\n",
    "ax = plt.axes(projection=proj)\n",
    "ds.salinity.isel(depth=depth).plot(ax=ax, x='lon', y='lat', transform=ccrs.PlateCarree())\n",
    "ax.set_extent([lon_min,lon_max,lat_min,lat_max], crs=ccrs.PlateCarree())\n",
    "ax.coastlines()\n",
    "gl=ax.gridlines(draw_labels=True, linewidth=0.5, color='k', alpha=0.8)\n",
    "gl.right_labels=False\n",
    "gl.top_labels=False\n",
    "fig.savefig(png, dpi=600, bbox_inches='tight')"
   ]
  },
  {
   "cell_type": "markdown",
   "metadata": {},
   "source": [
    "## Simple plotting with manual axes adjustment"
   ]
  },
  {
   "cell_type": "code",
   "execution_count": null,
   "metadata": {},
   "outputs": [],
   "source": [
    "### Start settings by users\n",
    "extent = (139.2, 140.2, 34.8, 35.8)\n",
    "depth = 0 # depth index in int\n",
    "figsize = (6,5)\n",
    "png = 'hycom_tokyo_bay3.png'\n",
    "## Default font size\n",
    "plt.rcParams['font.size'] = 12\n",
    "## Adjust surrounding margins\n",
    "lon_min, lon_max = extent[0]-0.1, extent[1]+0.15\n",
    "lat_min, lat_max = extent[2]-0.1, extent[3]+0.1\n",
    "## Ticks intervals for lon and lat axes\n",
    "dlon, dlat = (0.4, 0.2)\n",
    "### End settings by users\n",
    "\n",
    "central_longitude = np.mean(extent[0:2])\n",
    "xticks = np.arange(lon_min, lon_max, dlon)\n",
    "yticks = np.arange(lat_min, lat_max, dlat)\n",
    "proj = ccrs.PlateCarree(central_longitude=central_longitude)\n",
    "fig = plt.figure(figsize=figsize)\n",
    "ax = plt.axes(projection=proj)\n",
    "ds.salinity.isel(depth=depth).plot(ax=ax, x='lon', y='lat', transform=ccrs.PlateCarree())\n",
    "ax.set_extent([lon_min, lon_max, lat_min, lat_max], crs=ccrs.PlateCarree())\n",
    "ax.coastlines()\n",
    "gl=ax.gridlines(crs=ccrs.PlateCarree(), draw_labels=False, linewidth=1, color='k', alpha=0.8)\n",
    "gl.xlocator = mticker.FixedLocator(xticks)\n",
    "gl.ylocator = mticker.FixedLocator(yticks)\n",
    "ax.set_xticks(xticks,crs=ccrs.PlateCarree())\n",
    "ax.set_yticks(yticks,crs=ccrs.PlateCarree())\n",
    "latfmt=LatitudeFormatter()\n",
    "lonfmt=LongitudeFormatter(zero_direction_label=True)\n",
    "ax.xaxis.set_major_formatter(lonfmt)\n",
    "ax.yaxis.set_major_formatter(latfmt)\n",
    "ax.axes.tick_params(labelsize=12)\n",
    "fig.savefig(png, dpi=600, bbox_inches='tight')"
   ]
  },
  {
   "cell_type": "markdown",
   "metadata": {},
   "source": [
    "## Simple plotting with manual axes adjustment and background map (tiler)"
   ]
  },
  {
   "cell_type": "code",
   "execution_count": null,
   "metadata": {},
   "outputs": [],
   "source": [
    "### Start settings by users\n",
    "# Background map\n",
    "tiler = Stamen('terrain-background')\n",
    "#tiler = OSM()\n",
    "zoom=9\n",
    "extent = (139.2, 140.2, 34.8, 35.8)\n",
    "figsize = (6,5)\n",
    "depth = 0 # depth index in int\n",
    "png = 'hycom_tokyo_bay4.png'\n",
    "## Default font size\n",
    "plt.rcParams['font.size'] = 14\n",
    "## Override axes label size\n",
    "axes_label_size = 12\n",
    "## Adjust surronding margins\n",
    "lon_min, lon_max = extent[0]-0.1, extent[1]+0.15\n",
    "lat_min, lat_max = extent[2]-0.1, extent[3]+0.1\n",
    "## Ticks intervals\n",
    "dlon, dlat = (0.4, 0.2)\n",
    "### End settings by users\n",
    "\n",
    "xticks = np.arange(lon_min, lon_max, dlon)\n",
    "yticks = np.arange(lat_min, lat_max, dlat)\n",
    "central_longitude = np.mean(extent[0:2])\n",
    "proj = ccrs.PlateCarree(central_longitude=central_longitude)\n",
    "fig = plt.figure(figsize=figsize)\n",
    "ax = plt.axes(projection=proj)\n",
    "ds.salinity.isel(depth=0).plot(ax=ax, x='lon', y='lat', transform=ccrs.PlateCarree())\n",
    "ax.set_extent([lon_min,lon_max,lat_min,lat_max], crs=ccrs.PlateCarree())\n",
    "#gl=ax.gridlines(draw_labels=True, xlocs=xlocs, ylocs=ylocs, linewidth=0.5, color='k', alpha=0.8)\n",
    "gl=ax.gridlines(draw_labels=True, xlocs=xticks, ylocs=yticks, linestyle=':', linewidth=1, color='k', alpha=0.8)\n",
    "#fig.canvas.draw()\n",
    "gl.right_labels=False\n",
    "gl.top_labels=False\n",
    "gl.xlabel_style={'size':axes_label_size}\n",
    "gl.ylabel_style={'size':axes_label_size}\n",
    "gl.xlocator = mticker.FixedLocator(xticks)\n",
    "ax.add_image(tiler, zoom)\n",
    "fig.savefig(png, dpi=600, bbox_inches='tight')"
   ]
  },
  {
   "cell_type": "markdown",
   "metadata": {},
   "source": [
    "## Function ax_lonlat_axes for adjusting axes\n",
    "`ax_lonlat_axes(ax, extent, grid_linestyle=':', grid_linewidth=0.5, grid_color='k', \\\n",
    "                grid_alpha=0.8, xticks=None, yticks=None, label_size=12, tiler=None, zoom=8)`<br>\n",
    "### Args:\n",
    "-    ax(Axis)                 : gets current Axis\n",
    "-    extent (tuple)           : (lon_min, lon_max, lat_min, lat_max)\n",
    "-    grid_linestyle(str)      : linestyle (default: ':')\n",
    "-    grid_linewidth(float/int): linewidth (default: 0.5)\n",
    "-    grid_color(str)          : color (default: 'k')\n",
    "-    grid_alpha(float)        : opacity (default: 0.8)\n",
    "-    xticks(list)             : list of xticks (default: None)\n",
    "-    yticks(list)             : list of yticks (default: None)\n",
    "-    label_size(int)          : label size in pt (default: 12)\n",
    "-    tiler(cartopy.io.img_tiles):\n",
    "-    zoom(int)                : zoom in tiler\n",
    "### Returns\n",
    "-    ax(Axis)"
   ]
  },
  {
   "cell_type": "markdown",
   "metadata": {},
   "source": [
    "## Plotting using ax_lonlat_axes and background map"
   ]
  },
  {
   "cell_type": "code",
   "execution_count": null,
   "metadata": {},
   "outputs": [],
   "source": [
    "### Start settings by users\n",
    "extent = (139.2, 140.2, 34.8, 35.8)\n",
    "tiler = Stamen('terrain-background')  ### tiler = Stamen('terrain-background')/OSM()/None \n",
    "zoom = 9\n",
    "## Default font size\n",
    "plt.rcParams['font.size'] = 14\n",
    "## Override axes label size\n",
    "axes_label_size = 12\n",
    "grid_linewidth=1\n",
    "figsize = (6,5)\n",
    "depth = 0 # depth index in int\n",
    "png = 'hycom_tokyo_bay5.png'\n",
    "## Adjust surronding margins\n",
    "lon_min, lon_max = extent[0]-0.1, extent[1]+0.15\n",
    "lat_min, lat_max = extent[2]-0.1, extent[3]+0.1\n",
    "## Tick intervals\n",
    "dlon, dlat = (0.4, 0.2)\n",
    "### End settings by users\n",
    "\n",
    "xticks = np.arange(lon_min, lon_max, dlon)\n",
    "yticks = np.arange(lat_min, lat_max, dlat)\n",
    "central_longitude, central_latitude = np.mean(extent[0:2]), np.mean(extent[2:4])\n",
    "\n",
    "proj = ccrs.PlateCarree(central_longitude=central_longitude)\n",
    "fig = plt.figure(figsize=figsize)\n",
    "ax = plt.axes(projection=proj)\n",
    "\n",
    "ds.salinity.isel(depth=0).plot(ax=ax, x='lon', y='lat', transform=ccrs.PlateCarree())\n",
    "\n",
    "ax = xh.ax_lonlat_axes(ax, extent=(lon_min, lon_max, lat_min, lat_max), \\\n",
    "               grid_linewidth=grid_linewidth, grid_color='k', \\\n",
    "               xticks=xticks, yticks=yticks, label_size=axes_label_size, tiler=tiler, zoom=zoom)\n",
    "fig.savefig(png, dpi=600, bbox_inches='tight')"
   ]
  },
  {
   "cell_type": "markdown",
   "metadata": {},
   "source": [
    "# Interactive plotting with [hvPlot](https://hvplot.holoviz.org/#)\n",
    "- Useful for checking data values of `(x, y, z)` interactively.\n",
    "- Slower than matplotlib; may not be suitable for publication.\n",
    "- [Geoviews](https://geoviews.org/#) may also be useful.\n",
    "\n",
    "[hvPlot geographic data](https://hvplot.holoviz.org/user_guide/Geographic_Data.html) and [hvPlot options](https://hvplot.holoviz.org/user_guide/Customization.html)<br>"
   ]
  },
  {
   "cell_type": "code",
   "execution_count": null,
   "metadata": {},
   "outputs": [],
   "source": [
    "### Geoviews\n",
    "'''\n",
    "import warnings\n",
    "warnings.filterwarnings('ignore')\n",
    "import geoviews as gv\n",
    "import geoviews.feature as gf\n",
    "from geoviews import opts\n",
    "gv.extension('bokeh')\n",
    "gv.output(size=100)\n",
    "\n",
    "gvds=gv.Dataset(ds.salinity.isel(time=0))\n",
    "\n",
    "qmesh = gvds.to(gv.QuadMesh, ['lon', 'lat'], dynamic=True).redim.range(salinity=(34.0, 34.3))\n",
    "qmesh.opts(colorbar=True, cmap='jet', projection=ccrs.PlateCarree(), width=400, height=300 ,tools=['hover']) \\\n",
    "* gf.coastline.options(scale='10m')\n",
    "'''"
   ]
  },
  {
   "cell_type": "markdown",
   "metadata": {},
   "source": [
    "## Plan view\n",
    "`xarray.Dataset.hvplot.quadmesh(x, y, z, project, coastline, frame_height, cmap)`<br>\n",
    "- [cmap](https://matplotlib.org/gallery/color/colormap_reference.html?highlight=cmap): matplotlib colormap (for details see [here](https://matplotlib.org/tutorials/colors/colormaps.html))\n",
    "- `coastline = ['10m'/'50m'/'110m']`\n",
    "- When `tiles` is specified (e.g., `tiles=\"OSM\"`), axes labels are ignored -> maybe a bug.\n"
   ]
  },
  {
   "cell_type": "code",
   "execution_count": null,
   "metadata": {},
   "outputs": [],
   "source": [
    "### When tiles is set (e.g., tiles=\"OSM\"), axes labels are ignored -> maybe bug.\n",
    "z='salinity'\n",
    "cmap='magma_r' ## _r : reversed \n",
    "frame_height=300\n",
    "project = ccrs.PlateCarree()\n",
    "ds.hvplot.quadmesh(x='lon', y='lat', z=z, project=project, tiles=None, coastline='10m', frame_height=frame_height, cmap=cmap)"
   ]
  },
  {
   "cell_type": "markdown",
   "metadata": {},
   "source": [
    "## Vertical sectional views\n",
    "`xarray.Dataset.hvplot.quadmesh(x, y, z, flip_yaxis, frame_width, frame_height, cmap)`<br>\n",
    "- `flip_yaxis=True`: reverse yaxis"
   ]
  },
  {
   "cell_type": "code",
   "execution_count": null,
   "metadata": {},
   "outputs": [],
   "source": [
    "x = 'lon'\n",
    "z = 'salinity'\n",
    "cmap = 'magma_r'\n",
    "frame_width = 300\n",
    "frame_height = 200\n",
    "\n",
    "ds.hvplot.quadmesh(x=x, y='depth', z=z, flip_yaxis=True, frame_width=frame_width, frame_height=frame_height, cmap=cmap)"
   ]
  },
  {
   "cell_type": "code",
   "execution_count": null,
   "metadata": {},
   "outputs": [],
   "source": [
    "x = 'lat'\n",
    "ds.hvplot.quadmesh(x=x, y='depth', z=z, flip_yaxis=True, frame_width=frame_width, frame_height=frame_height, cmap=cmap)"
   ]
  },
  {
   "cell_type": "markdown",
   "metadata": {},
   "source": [
    "# Interactive time series plotting with hvPlot\n",
    "- Using dask for large data handling\n",
    "- See [Readng and writing files - xarray](http://xarray.pydata.org/en/stable/io.html)\n",
    "\n",
    "## Loading netcdf files"
   ]
  },
  {
   "cell_type": "code",
   "execution_count": null,
   "metadata": {},
   "outputs": [],
   "source": [
    "ncfiles = 'hycom_2012*.nc'\n",
    "dsts = xr.open_mfdataset(ncfiles, parallel=True, concat_dim=\"time\", data_vars='minimal', coords='minimal', compat='override')\n",
    "dsts"
   ]
  },
  {
   "cell_type": "markdown",
   "metadata": {},
   "source": [
    "## Plan view\n",
    "`xarray.Dataset.hvplot.quadmesh(x, y, z, project, coastline, frame_height, cmap)`"
   ]
  },
  {
   "cell_type": "code",
   "execution_count": null,
   "metadata": {},
   "outputs": [],
   "source": [
    "z = 'salinity'\n",
    "project = ccrs.PlateCarree()\n",
    "frame_height = 300\n",
    "cmap = 'magma_r'\n",
    "\n",
    "dsts.hvplot.quadmesh(x='lon', y='lat', z=z, project=project, coastline='10m', frame_height=frame_height, cmap=cmap)"
   ]
  },
  {
   "cell_type": "markdown",
   "metadata": {},
   "source": [
    "## Vertical sectional views"
   ]
  },
  {
   "cell_type": "code",
   "execution_count": null,
   "metadata": {},
   "outputs": [],
   "source": [
    "x = 'lon'\n",
    "z = 'salinity'\n",
    "frame_width  = 300\n",
    "frame_height = 200\n",
    "cmap = 'magma_r'\n",
    "\n",
    "dsts.hvplot.quadmesh(x=x, y='depth', z=z, flip_yaxis=True, frame_height=frame_height, frame_width=frame_width, cmap=cmap)"
   ]
  },
  {
   "cell_type": "code",
   "execution_count": null,
   "metadata": {},
   "outputs": [],
   "source": [
    "x = 'lat'\n",
    "dsts.hvplot.quadmesh(x=x, y='depth', z=z, flip_yaxis=True, frame_height=frame_height, frame_width=frame_width, cmap=cmap)"
   ]
  },
  {
   "cell_type": "markdown",
   "metadata": {},
   "source": [
    "# Create GIF animation with matplotlib"
   ]
  },
  {
   "cell_type": "code",
   "execution_count": null,
   "metadata": {},
   "outputs": [],
   "source": [
    "from matplotlib.animation import FuncAnimation\n",
    "# This is needed to display graphics calculated outside of jupyter notebook\n",
    "from IPython.display import HTML, display"
   ]
  },
  {
   "cell_type": "code",
   "execution_count": null,
   "metadata": {},
   "outputs": [],
   "source": [
    "dsts.time"
   ]
  },
  {
   "cell_type": "code",
   "execution_count": null,
   "metadata": {},
   "outputs": [],
   "source": [
    "### Start settings by users\n",
    "ncfiles = 'hycom_2012*.nc'\n",
    "## Select indexes for depth and time\n",
    "depth=0\n",
    "time=0\n",
    "extent = (139.2, 140.2, 34.8, 35.8)\n",
    "tiler = Stamen('terrain-background')  ### tiler = Stamen('terrain-background')/OSM()/None \n",
    "zoom = 9\n",
    "## Default font size\n",
    "plt.rcParams['font.size'] = 11\n",
    "## Override axes label size\n",
    "axes_label_size = 11\n",
    "grid_linewidth=1\n",
    "figsize = (6,5)\n",
    "png = 'hycom_tokyo_bay5.png'\n",
    "## Adjust surronding margins\n",
    "lon_min, lon_max = extent[0]-0.1, extent[1]+0.15\n",
    "lat_min, lat_max = extent[2]-0.1, extent[3]+0.1\n",
    "## Tick intervals\n",
    "dlon, dlat = (0.4, 0.2)\n",
    "### End settings by users\n",
    "\n",
    "xticks = np.arange(lon_min, lon_max, dlon)\n",
    "yticks = np.arange(lat_min, lat_max, dlat)\n",
    "central_longitude, central_latitude = np.mean(extent[0:2]), np.mean(extent[2:4])\n",
    "\n",
    "proj = ccrs.PlateCarree(central_longitude=central_longitude)\n",
    "fig = plt.figure(figsize=figsize)\n",
    "ax = plt.axes(projection=proj)\n",
    "\n",
    "fig.subplots_adjust(left=0.1, bottom=0.05, right=0.95, top=0.95, wspace=None, hspace=None)\n",
    "\n",
    "ax = xh.ax_lonlat_axes(ax, extent=(lon_min, lon_max, lat_min, lat_max), \\\n",
    "           grid_linewidth=grid_linewidth, grid_color='k', \\\n",
    "           xticks=xticks, yticks=yticks, label_size=axes_label_size, tiler=tiler, zoom=zoom)\n",
    "cax = dsts.salinity.isel(depth=depth, time=0).plot(ax=ax, x='lon', y='lat', transform=ccrs.PlateCarree(),\\\n",
    "                                             vmin=34.0, vmax=34.3, levels=100, cbar_kwargs={'shrink':0.85})\n",
    "\n",
    "def update(i):\n",
    "    #print(i)\n",
    "    cax.set_array(dsts.salinity.isel(depth=depth, time=i).values.flatten())\n",
    "    ax.set_title(\"Depth = \" + str(dsts['depth'].values[depth]) + \"  Time = \" + str(dsts.coords['time'].values[i])[0:16])\n",
    "ani = FuncAnimation(fig, update, frames=3, interval=200, blit=False, repeat=True)\n",
    "ani.save(\"anime.gif\", writer=\"pillow\", dpi=200)"
   ]
  },
  {
   "cell_type": "code",
   "execution_count": null,
   "metadata": {},
   "outputs": [],
   "source": [
    "HTML(ani.to_jshtml())"
   ]
  },
  {
   "cell_type": "code",
   "execution_count": null,
   "metadata": {},
   "outputs": [],
   "source": [
    "ani.save('./Python_Animation_04.mp4')\n",
    "display(HTML(\"<video controls><source src='./Python_Animation_04.mp4' type='video/mp4'></video>\"))"
   ]
  },
  {
   "cell_type": "code",
   "execution_count": null,
   "metadata": {},
   "outputs": [],
   "source": []
  }
 ],
 "metadata": {
  "kernelspec": {
   "display_name": "Python 3",
   "language": "python",
   "name": "python3"
  },
  "language_info": {
   "codemirror_mode": {
    "name": "ipython",
    "version": 3
   },
   "file_extension": ".py",
   "mimetype": "text/x-python",
   "name": "python",
   "nbconvert_exporter": "python",
   "pygments_lexer": "ipython3",
   "version": "3.7.8"
  }
 },
 "nbformat": 4,
 "nbformat_minor": 4
}
