{
 "cells": [
  {
   "cell_type": "markdown",
   "metadata": {},
   "source": [
    "# Demonstration for using xhycom\n",
    "**Author: Jun Sasaki, Coded on August 20, 2020, Updated on August 20, 2020**"
   ]
  },
  {
   "cell_type": "code",
   "execution_count": null,
   "metadata": {},
   "outputs": [],
   "source": [
    "import xhycom.utils as xh\n",
    "from xhycom.utils import PlotConfig, Data, Plotter\n",
    "import xarray as xr\n",
    "from netCDF4 import Dataset\n",
    "from IPython.display import HTML, display\n",
    "import cartopy.crs as ccrs\n",
    "import cartopy.feature as cfeature\n",
    "from cartopy.io.img_tiles import Stamen\n",
    "from cartopy.io.img_tiles import OSM\n",
    "import hvplot.xarray\n",
    "import warnings\n",
    "warnings.filterwarnings('ignore')\n",
    "%matplotlib inline"
   ]
  },
  {
   "cell_type": "markdown",
   "metadata": {},
   "source": [
    "## Downloading and creating multi-time netcdf\n",
    "- `xh.run_opendap(extent, time_start, time_end=None, dtime=3, tz='utc')`\n",
    "- Netcdf file name is automatically generated as \"hycom_\" + datetime + \".nc\" \n",
    "- This method should be used in general."
   ]
  },
  {
   "cell_type": "code",
   "execution_count": null,
   "metadata": {},
   "outputs": [],
   "source": [
    "#extent = (139.2, 140.2, 34.8, 35.8)  ### Mouth of Tokyo Bay\n",
    "extent = (-82.0, -65.0, 28.0, 43.0)  ### Project Sandy\n",
    "time_start, time_end, dtime = ('2012-10-28 12:00:00', '2012-10-29 00:00:00', 3)  ### dtime (int): time interval in hours\n",
    "### Reading catalog from local\n",
    "#xh.run_opendap(extent=extent, time_start=time_start, time_end=time_end, dtime=dtime)\n",
    "### Reading catalog from OPeNDAP\n",
    "dirpath = 'http://tds.hycom.org/thredds/dodsC/GLBv0.08/expt_53.X/data/'\n",
    "xh.run_opendap(extent=extent, time_start=time_start, time_end=time_end, dtime=dtime, opendap=True, dirpath=dirpath)"
   ]
  },
  {
   "cell_type": "markdown",
   "metadata": {},
   "source": [
    "# Loading netcdf time series files into xarray.Dataset"
   ]
  },
  {
   "cell_type": "code",
   "execution_count": null,
   "metadata": {},
   "outputs": [],
   "source": [
    "ncfiles = 'hycom_lon-82.0lon-65.0_lat28.0lat43.0_2012*.nc'\n",
    "\n",
    "with xr.open_mfdataset(ncfiles, parallel=True, concat_dim=\"time\", data_vars='minimal', \\\n",
    "                       coords='minimal', compat='override') as dsts:\n",
    "    print(\"Creating xarray.Dataset from \" + str(ncfiles))\n",
    "dsts"
   ]
  },
  {
   "cell_type": "markdown",
   "metadata": {},
   "source": [
    "# 2D Plotting for plan view, vertical views, and timeseries\n",
    "Save method may be overridden by the following. You may put some text by self.fig.text(x, y, str) where x and y are normilized axes (0 and 1) and str is a plotted string. "
   ]
  },
  {
   "cell_type": "code",
   "execution_count": null,
   "metadata": {},
   "outputs": [],
   "source": [
    "### Specify plot type and variable\n",
    "plot_type = 'plot_xy'\n",
    "var = 'salinity' #'water_temp'\n",
    "\n",
    "'''\n",
    "### Tokyo Bay\n",
    "### Speciry axes range or None\n",
    "#extent_xy = (139.2, 140.2, 34.8, 35.8)\n",
    "extent_xy = (139.0, 140.4, 34.6, 36.0)\n",
    "extent_xz = (139.0, 140.4, 0, 3000) # None\n",
    "extent_yz = None #(139.0, 140.4, 0, 3000)\n",
    "'''\n",
    "extent_tx = None\n",
    "extent_ty = None\n",
    "extent_tz = None\n",
    "\n",
    "### Sandy\n",
    "extent_xy = (-82.0, -65.0, 28.0, 43.0)\n",
    "extent_xz = (-82.0, -65.0, 0, 5000.0)\n",
    "extent_yz = None\n",
    "\n",
    "\n",
    "### Specify axes' ticks intervals or None\n",
    "ticks_intervals_xy = None  ### (0.4, 0.2)\n",
    "ticks_intervals_xz = None\n",
    "ticks_intervals_yz = None\n",
    "ticks_intervals_tx = None\n",
    "ticks_intervals_ty = None\n",
    "ticks_intervals_tz = None\n",
    "\n",
    "### Create Data instance and PlotConfig instance\n",
    "da_var = Data(da=dsts[var])\n",
    "cfg_sal = PlotConfig()\n",
    "\n",
    "### Create Plotter instance and invoke its method of save or plot\n",
    "\n",
    "vmin = None  ### 34.0\n",
    "vmax = None  ### 34.2\n",
    "levels = None ### 10\n",
    "\n",
    "if   plot_type == 'plot_xy':\n",
    "    ### xy plot (lon, lat)\n",
    "    plot_xy=Plotter(plot_config=cfg_sal, data=da_var, x='lon', y='lat', z=0, t=0)\n",
    "    plot_xy.plot(extent=extent_xy, ticks_intervals=ticks_intervals_xy, \\\n",
    "                 vmin=vmin, vmax=vmax, levels=10).save(\"./class_text_xy.png\", dpi=300, bbox_inches='tight')\n",
    "    #plot_xy.save(\"./class_test_xy.png\", extent=extent_xy, ticks_intervals=ticks_intervals_xy, \\\n",
    "    #             vmin=vmin, vmax=vmax, levels=10, dpi=300, bbox_inches='tight')\n",
    "elif plot_type == 'plot_xz':\n",
    "    ### xz plot (lon, depth)\n",
    "    plot_xz=Plotter(plot_config=cfg_sal, data=da_var, x='lon', y=0, z='depth', t=0)\n",
    "    plot_xz.save(\"./class_test_xz.png\", extent=extent_xz, ticks_intervals=ticks_intervals_xz, dpi=300, bbox_inches='tight')\n",
    "elif plot_type == 'plot_yz':\n",
    "    ### yz plot (lat, depth)\n",
    "    plot_yz=Plotter(plot_config=cfg_sal, data=da_var, x=2, y='lat', z='depth', t=0)\n",
    "    plot_yz.save(\"./class_test_yz.png\", extent=extent_yz, ticks_intervals=ticks_intervals_yz, dpi=300, bbox_inches='tight')\n",
    "elif plot_type == 'plot_tx':\n",
    "    ### tx plot (time, lon)\n",
    "    plot_tx=Plotter(plot_config=cfg_sal, data=da_var, x='lon', y=0, z=0, t='time')\n",
    "    plot_tx.save(\"./class_test_tx.png\", extent=extent_tx, ticks_intervals=ticks_intervals_tx, dpi=300, bbox_inches='tight')\n",
    "elif plot_type == 'plot_ty':\n",
    "    ### ty plot (time, lat)\n",
    "    plot_ty=Plotter(plot_config=cfg_sal, data=da_var, x=0, y='lat', z=0, t='time')\n",
    "    plot_ty.save(\"./class_test_ty.png\", extent=extent_ty, ticks_intervals=ticks_intervals_ty, dpi=300, bbox_inches='tight')\n",
    "elif plot_type == 'plot_tz':\n",
    "    ### tz plot (time, depth)\n",
    "    plot_tz=Plotter(plot_config=cfg_sal, data=da_var, x=0, y=0, z='depth', t='time')\n",
    "    plot_tz.save(\"./class_test_tz.png\", extent=extent_tz, ticks_intervals=ticks_intervals_tz, dpi=300, bbox_inches='tight')\n",
    "else:\n",
    "    'ERROR: No such plot_type'"
   ]
  },
  {
   "cell_type": "markdown",
   "metadata": {},
   "source": [
    "# Creating GIF animation\n",
    "Only supported plot_type of `plot_xy`. It is recommended to prepare a specific manual code for animation without using class because cutomizing panels is often required."
   ]
  },
  {
   "cell_type": "code",
   "execution_count": null,
   "metadata": {},
   "outputs": [],
   "source": [
    "gif_file = \"./test_ani.gif\"\n",
    "plot_type = 'plot_xy'\n",
    "var = 'salinity' #'water_temp'\n",
    "extent_xy = (139.0, 140.4, 34.6, 36.0)\n",
    "ticks_intervals_xy = (0.4, 0.2)\n",
    "### Create Data instance and PlotConfig instance\n",
    "da_var = Data(da=dsts[var])\n",
    "cfg_sal = PlotConfig()\n",
    "\n",
    "if plot_type == 'plot_xy':\n",
    "    ### xy plot (lon, lat)\n",
    "    plot_xy=Plotter(plot_config=cfg_sal, data=da_var, x='lon', y='lat', z=0, t=slice(None))\n",
    "\n",
    "    ani = plot_xy.frame(extent=extent_xy, ticks_intervals=ticks_intervals_xy, vmin=34.0, vmax=34.2, levels=20, \\\n",
    "                  cbar_kwargs={'shrink':0.8}).anim(gif_file, frames=None, \\\n",
    "                                                   interval=500, writer='pillow', dpi=200)"
   ]
  },
  {
   "cell_type": "markdown",
   "metadata": {},
   "source": [
    "## Display GIF animation"
   ]
  },
  {
   "cell_type": "code",
   "execution_count": null,
   "metadata": {},
   "outputs": [],
   "source": [
    "display(HTML(ani.to_jshtml()))"
   ]
  },
  {
   "cell_type": "markdown",
   "metadata": {},
   "source": [
    "## Create and display MP4 animation\n",
    "Instance of animation is converted to MP4 animation."
   ]
  },
  {
   "cell_type": "code",
   "execution_count": null,
   "metadata": {},
   "outputs": [],
   "source": [
    "#mp4_file = \"./test_ani.mp4\"\n",
    "#ani.save(mp4_file, dpi=100)\n",
    "#display(HTML(\"<video controls><source src='./test_ani.mp4' type='video/mp4'></video>\")) ### File name should be in '***'"
   ]
  },
  {
   "cell_type": "code",
   "execution_count": null,
   "metadata": {},
   "outputs": [],
   "source": [
    "mp4_file = \"./test_ani.mp4\"\n",
    "plot_xy=Plotter(plot_config=cfg_sal, data=da_var, x='lon', y='lat', z=0, t=slice(None))\n",
    "\n",
    "ani_mp4 = plot_xy.frame(extent=extent_xy, ticks_intervals=ticks_intervals_xy, vmin=34.0, vmax=34.2, levels=20, \\\n",
    "          cbar_kwargs={'shrink':0.8}).anim(gif_file, frames=None, \\\n",
    "                       interval=500, writer='ffmpeg', dpi=200)\n",
    "ani_mp4.save(mp4_file, dpi=100)\n",
    "display(HTML(\"<video controls><source src='./test_ani.mp4' type='video/mp4'></video>\"))"
   ]
  },
  {
   "cell_type": "markdown",
   "metadata": {},
   "source": [
    "# Interactive plotting with [hvPlot](https://hvplot.holoviz.org/#)\n",
    "- Useful for checking data values of `(x, y, z)` interactively.\n",
    "- Slower than matplotlib; may not be suitable for publication quality plots.\n",
    "- [Geoviews](https://geoviews.org/#) may also be useful.\n",
    "\n",
    "[hvPlot geographic data](https://hvplot.holoviz.org/user_guide/Geographic_Data.html) and [hvPlot options](https://hvplot.holoviz.org/user_guide/Customization.html)<br>"
   ]
  },
  {
   "cell_type": "markdown",
   "metadata": {},
   "source": [
    "## Plan view\n",
    "`xarray.Dataset.hvplot.quadmesh(x, y, z, project, coastline, frame_height, cmap)`<br>\n",
    "- [cmap](https://matplotlib.org/gallery/color/colormap_reference.html?highlight=cmap): matplotlib colormap (for details see [here](https://matplotlib.org/tutorials/colors/colormaps.html))\n",
    "- `coastline = ['10m'/'50m'/'110m']`\n",
    "- When `tiles` is specified (e.g., `tiles=\"OSM\"`), axes labels are ignored -> maybe a bug.\n"
   ]
  },
  {
   "cell_type": "code",
   "execution_count": null,
   "metadata": {},
   "outputs": [],
   "source": [
    "### When tiles is not None (e.g., tiles=\"OSM\"), axes labels are to be ignored -> maybe bug.\n",
    "z='salinity'\n",
    "time = 0  ### by index\n",
    "cmap='magma_r' ## _r : reversed \n",
    "frame_height=300\n",
    "project = ccrs.PlateCarree()\n",
    "dsts.isel(time=time).hvplot.quadmesh(x='lon', y='lat', z=z, project=project, tiles=None, \\\n",
    "                                     coastline='10m', frame_height=frame_height, cmap=cmap)"
   ]
  },
  {
   "cell_type": "markdown",
   "metadata": {},
   "source": [
    "## Vertical sectional views\n",
    "`xarray.Dataset.hvplot.quadmesh(x, y, z, flip_yaxis, frame_width, frame_height, cmap)`<br>\n",
    "- `flip_yaxis=True`: reverse yaxis"
   ]
  },
  {
   "cell_type": "code",
   "execution_count": null,
   "metadata": {},
   "outputs": [],
   "source": [
    "time = 0\n",
    "x = 'lon'\n",
    "z = 'salinity'\n",
    "cmap = 'magma_r'\n",
    "frame_width = 300\n",
    "frame_height = 200\n",
    "\n",
    "dsts.isel(time=time).hvplot.quadmesh(x=x, y='depth', z=z, flip_yaxis=True, \\\n",
    "                                     frame_width=frame_width, frame_height=frame_height, cmap=cmap)"
   ]
  },
  {
   "cell_type": "code",
   "execution_count": null,
   "metadata": {},
   "outputs": [],
   "source": [
    "time = 0\n",
    "x = 'lat'  ### x = 'lat'|'lon'\n",
    "\n",
    "dsts.isel(time=time).hvplot.quadmesh(x=x, y='depth', z=z, flip_yaxis=True, \\\n",
    "                                     frame_width=frame_width, frame_height=frame_height, cmap=cmap)"
   ]
  },
  {
   "cell_type": "markdown",
   "metadata": {},
   "source": [
    "# Interactive time series plotting with hvPlot\n",
    "- Using dask for large data handling\n",
    "- See [Readng and writing files - xarray](http://xarray.pydata.org/en/stable/io.html)"
   ]
  },
  {
   "cell_type": "markdown",
   "metadata": {},
   "source": [
    "## Plan view\n",
    "`xarray.Dataset.hvplot.quadmesh(x, y, z, project, coastline, frame_height, cmap)`"
   ]
  },
  {
   "cell_type": "code",
   "execution_count": null,
   "metadata": {},
   "outputs": [],
   "source": [
    "z = 'salinity'\n",
    "project = ccrs.PlateCarree()\n",
    "frame_height = 300\n",
    "cmap = 'magma_r'\n",
    "\n",
    "dsts.hvplot.quadmesh(x='lon', y='lat', z=z, project=project, coastline='10m', \\\n",
    "                     frame_height=frame_height, cmap=cmap)"
   ]
  },
  {
   "cell_type": "markdown",
   "metadata": {},
   "source": [
    "## Vertical sectional views"
   ]
  },
  {
   "cell_type": "code",
   "execution_count": null,
   "metadata": {},
   "outputs": [],
   "source": [
    "x = 'lon'\n",
    "z = 'salinity'\n",
    "frame_width  = 300\n",
    "frame_height = 200\n",
    "cmap = 'magma_r'\n",
    "\n",
    "dsts.hvplot.quadmesh(x=x, y='depth', z=z, flip_yaxis=True, frame_height=frame_height, frame_width=frame_width, \\\n",
    "                     cmap=cmap)"
   ]
  },
  {
   "cell_type": "code",
   "execution_count": null,
   "metadata": {},
   "outputs": [],
   "source": [
    "x = 'lat'\n",
    "dsts.hvplot.quadmesh(x=x, y='depth', z=z, flip_yaxis=True, frame_height=frame_height, frame_width=frame_width, \\\n",
    "                     cmap=cmap)"
   ]
  },
  {
   "cell_type": "code",
   "execution_count": null,
   "metadata": {},
   "outputs": [],
   "source": []
  }
 ],
 "metadata": {
  "kernelspec": {
   "display_name": "Python 3",
   "language": "python",
   "name": "python3"
  },
  "language_info": {
   "codemirror_mode": {
    "name": "ipython",
    "version": 3
   },
   "file_extension": ".py",
   "mimetype": "text/x-python",
   "name": "python",
   "nbconvert_exporter": "python",
   "pygments_lexer": "ipython3",
   "version": "3.7.8"
  }
 },
 "nbformat": 4,
 "nbformat_minor": 4
}
