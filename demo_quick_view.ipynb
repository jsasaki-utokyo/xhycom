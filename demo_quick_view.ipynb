{
 "cells": [
  {
   "cell_type": "markdown",
   "metadata": {},
   "source": [
    "# Demonstration for using xhycom\n",
    "**Author: Jun Sasaki, Coded on September 2, 2020, Updated on September 2, 2020**<br>\n",
    "Demonstration for quick view of HYCOM data without annotation and decoration."
   ]
  },
  {
   "cell_type": "code",
   "execution_count": null,
   "metadata": {},
   "outputs": [],
   "source": [
    "import xhycom.utils as xh\n",
    "from xhycom.utils import PlotConfig, Data, Plotter\n",
    "import xarray as xr\n",
    "from netCDF4 import Dataset\n",
    "from IPython.display import HTML, display\n",
    "import cartopy.crs as ccrs\n",
    "import cartopy.feature as cfeature\n",
    "from cartopy.io.img_tiles import Stamen\n",
    "from cartopy.io.img_tiles import OSM\n",
    "import hvplot.xarray\n",
    "import warnings\n",
    "warnings.filterwarnings('ignore')\n",
    "%matplotlib inline"
   ]
  },
  {
   "cell_type": "markdown",
   "metadata": {},
   "source": [
    "## Downloading and creating multi-time netcdf\n",
    "- `xh.run_opendap(extent, time_start, time_end=None, dtime=3, tz='utc')`\n",
    "- Netcdf file name is automatically generated as \"hycom_\" + datetime + \".nc\" \n",
    "- This method should be used in general."
   ]
  },
  {
   "cell_type": "code",
   "execution_count": null,
   "metadata": {},
   "outputs": [],
   "source": [
    "#extent = (139.2, 140.2, 34.8, 35.8)  ### Mouth of Tokyo Bay\n",
    "extent = (-82.0, -65.0, 28.0, 43.0)  ### Project Sandy\n",
    "time_start, time_end, dtime = ('2012-10-28 12:00:00', '2012-10-29 00:00:00', 3)  ### dtime (int): time interval in hours\n",
    "\n",
    "### Reading catalog from local\n",
    "#xh.run_opendap(extent=extent, time_start=time_start, time_end=time_end, dtime=dtime)\n",
    "### Reading catalog from OPeNDAP\n",
    "dirpath = 'http://tds.hycom.org/thredds/dodsC/GLBv0.08/expt_53.X/data/'\n",
    "\n",
    "xh.run_opendap(extent=extent, time_start=time_start, time_end=time_end, dtime=dtime, opendap=True, dirpath=dirpath)"
   ]
  },
  {
   "cell_type": "markdown",
   "metadata": {},
   "source": [
    "# Loading netcdf time series files into xarray.Dataset"
   ]
  },
  {
   "cell_type": "code",
   "execution_count": null,
   "metadata": {},
   "outputs": [],
   "source": [
    "ncfiles = 'hycom_lon-82.0lon-65.0_lat28.0lat43.0_2012*.nc'\n",
    "\n",
    "with xr.open_mfdataset(ncfiles, parallel=True, concat_dim=\"time\", data_vars='minimal', \\\n",
    "                       coords='minimal', compat='override') as dsts:\n",
    "    print(\"Creating xarray.Dataset from \" + str(ncfiles))\n",
    "dsts"
   ]
  },
  {
   "cell_type": "markdown",
   "metadata": {},
   "source": [
    "# 2D Plotting for plan view, vertical views, and timeseries"
   ]
  },
  {
   "cell_type": "code",
   "execution_count": null,
   "metadata": {},
   "outputs": [],
   "source": [
    "### Specify plot type and variables\n",
    "plot_type = 'plot_xy'\n",
    "var = 'salinity' #'water_temp'\n",
    "t=0\n",
    "x=70\n",
    "y=0\n",
    "z=0\n",
    "vmin=None\n",
    "vmax=None\n",
    "png_path = \"./\" + plot_type + \".png\"\n",
    "dpi=300\n",
    "\n",
    "### Create Data instance and PlotConfig instance\n",
    "da_var = Data(da=dsts[var])\n",
    "cfg_sal = PlotConfig()\n",
    "\n",
    "### Create Plotter instance and invoke its method of save or plot\n",
    "\n",
    "if   plot_type == 'plot_xy':  ### xy plot (lon, lat)\n",
    "    plot_xy=Plotter(plot_config=cfg_sal, data=da_var, x='lon', y='lat', z=z, t=t)\n",
    "    plot_xy.plot(vmin=vmin, vmax=vmax).save(png_path, dpi=dpi, bbox_inches='tight')\n",
    "elif plot_type == 'plot_xz':  ### xz plot (lon, depth)\n",
    "    plot_xz=Plotter(plot_config=cfg_sal, data=da_var, x='lon', y=y, z='depth', t=0)\n",
    "    plot_xz.plot(vmin=vmin, vmax=vmax).save(png_path, dpi=dpi, bbox_inches='tight')\n",
    "elif plot_type == 'plot_yz':  ### yz plot (lat, depth)\n",
    "    plot_yz=Plotter(plot_config=cfg_sal, data=da_var, x=x, y='lat', z='depth', t=t)\n",
    "    plot_yz.plot(vmin=vmin, vmax=vmax).save(png_path, dpi=dpi, bbox_inches='tight')\n",
    "elif plot_type == 'plot_tx':  ### tx plot (time, lon)\n",
    "    plot_tx=Plotter(plot_config=cfg_sal, data=da_var, x='lon', y=y, z=z, t='time')\n",
    "    plot_tx.plot(vmin=vmin, vmax=vmax).save(png_path, dpi=dpi, bbox_inches='tight')\n",
    "elif plot_type == 'plot_ty':  ### ty plot (time, lat)\n",
    "    plot_ty=Plotter(plot_config=cfg_sal, data=da_var, x=x, y='lat', z=z, t='time')\n",
    "    plot_ty.plot(vmin=vmin, vmax=vmax).save(png_path, dpi=dpi, bbox_inches='tight')\n",
    "elif plot_type == 'plot_tz':  ### tz plot (time, depth)\n",
    "    plot_tz=Plotter(plot_config=cfg_sal, data=da_var, x=x, y=y, z='depth', t='time')\n",
    "    plot_tz.plot(vmin=vmin, vmax=vmax).save(png_path, dpi=dpi, bbox_inches='tight')\n",
    "else:\n",
    "    'ERROR: No such plot_type'"
   ]
  },
  {
   "cell_type": "markdown",
   "metadata": {},
   "source": [
    "# Creating GIF animation\n",
    "Only supported plot_type of `plot_xy`. It is recommended to prepare a specific manual code for animation without using class because cutomizing panels is often required."
   ]
  },
  {
   "cell_type": "code",
   "execution_count": null,
   "metadata": {},
   "outputs": [],
   "source": [
    "plot_type = 'plot_xy'\n",
    "gif_file = \"./\" + plot_type + \".gif\"\n",
    "var = 'salinity' #'water_temp'\n",
    "z=0\n",
    "vmin = 34\n",
    "vmax = 36\n",
    "levels = None\n",
    "### Create Data instance and PlotConfig instance\n",
    "da_var = Data(da=dsts[var])\n",
    "cfg_sal = PlotConfig()\n",
    "\n",
    "if plot_type == 'plot_xy':  ### xy plot (lon, lat)\n",
    "    plot_xy=Plotter(plot_config=cfg_sal, data=da_var, x='lon', y='lat', z=z, t=slice(None))\n",
    "    ani = plot_xy.frame(vmin=vmin, vmax=vmax, levels=levels, \\\n",
    "                  cbar_kwargs={'shrink':0.8}).anim(gif_file, frames=None, \\\n",
    "                                                   interval=500, writer='pillow', dpi=200)"
   ]
  },
  {
   "cell_type": "markdown",
   "metadata": {},
   "source": [
    "## Display GIF animation"
   ]
  },
  {
   "cell_type": "code",
   "execution_count": null,
   "metadata": {},
   "outputs": [],
   "source": [
    "display(HTML(ani.to_jshtml()))"
   ]
  },
  {
   "cell_type": "markdown",
   "metadata": {},
   "source": [
    "## Create and display MP4 animation\n",
    "Instance of animation is converted to MP4 animation."
   ]
  },
  {
   "cell_type": "markdown",
   "metadata": {},
   "source": [
    "# Interactive time series plotting with hvPlot\n",
    "- Using dask for large data handling\n",
    "- See [Readng and writing files - xarray](http://xarray.pydata.org/en/stable/io.html)"
   ]
  },
  {
   "cell_type": "markdown",
   "metadata": {},
   "source": [
    "## Plan view\n",
    "`xarray.Dataset.hvplot.quadmesh(x, y, z, project, coastline, frame_height, cmap)`"
   ]
  },
  {
   "cell_type": "code",
   "execution_count": null,
   "metadata": {},
   "outputs": [],
   "source": [
    "z = 'salinity'\n",
    "project = ccrs.PlateCarree()\n",
    "frame_height = 300\n",
    "cmap = 'magma_r'\n",
    "\n",
    "dsts.hvplot.quadmesh(x='lon', y='lat', z=z, project=project, coastline='10m', \\\n",
    "                     frame_height=frame_height, cmap=cmap).opts(bgcolor='lightgray')"
   ]
  },
  {
   "cell_type": "markdown",
   "metadata": {},
   "source": [
    "## Vertical sectional views"
   ]
  },
  {
   "cell_type": "code",
   "execution_count": null,
   "metadata": {},
   "outputs": [],
   "source": [
    "x = 'lon'\n",
    "z = 'salinity'\n",
    "frame_width  = 300\n",
    "frame_height = 200\n",
    "cmap = 'magma_r'\n",
    "\n",
    "dsts.hvplot.quadmesh(x=x, y='depth', z=z, flip_yaxis=True, frame_height=frame_height, frame_width=frame_width, \\\n",
    "                     cmap=cmap).opts(bgcolor='lightgray')"
   ]
  },
  {
   "cell_type": "code",
   "execution_count": null,
   "metadata": {},
   "outputs": [],
   "source": [
    "x = 'lat'\n",
    "z = 'salinity'\n",
    "dsts.hvplot.quadmesh(x=x, y='depth', z=z, flip_yaxis=True, frame_height=frame_height, frame_width=frame_width, \\\n",
    "                     cmap=cmap).opts(bgcolor='lightgray')"
   ]
  },
  {
   "cell_type": "code",
   "execution_count": null,
   "metadata": {},
   "outputs": [],
   "source": []
  }
 ],
 "metadata": {
  "kernelspec": {
   "display_name": "Python 3",
   "language": "python",
   "name": "python3"
  },
  "language_info": {
   "codemirror_mode": {
    "name": "ipython",
    "version": 3
   },
   "file_extension": ".py",
   "mimetype": "text/x-python",
   "name": "python",
   "nbconvert_exporter": "python",
   "pygments_lexer": "ipython3",
   "version": "3.7.8"
  }
 },
 "nbformat": 4,
 "nbformat_minor": 4
}
